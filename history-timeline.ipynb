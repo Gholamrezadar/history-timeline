{
 "cells": [
  {
   "cell_type": "code",
   "execution_count": 1,
   "metadata": {},
   "outputs": [],
   "source": [
    "#$\n",
    "import pandas as pd\n",
    "import matplotlib.pyplot as plt\n",
    "import seaborn as sns; sns.set(); sns.set_style('dark')"
   ]
  },
  {
   "attachments": {},
   "cell_type": "markdown",
   "metadata": {},
   "source": [
    "## Load Data"
   ]
  },
  {
   "cell_type": "code",
   "execution_count": 2,
   "metadata": {},
   "outputs": [],
   "source": [
    "#$\n",
    "df = pd.read_csv('historic_events.csv',header=0, names=['event','year','type'])"
   ]
  },
  {
   "cell_type": "code",
   "execution_count": 3,
   "metadata": {},
   "outputs": [
    {
     "data": {
      "text/html": [
       "<div>\n",
       "<style scoped>\n",
       "    .dataframe tbody tr th:only-of-type {\n",
       "        vertical-align: middle;\n",
       "    }\n",
       "\n",
       "    .dataframe tbody tr th {\n",
       "        vertical-align: top;\n",
       "    }\n",
       "\n",
       "    .dataframe thead th {\n",
       "        text-align: right;\n",
       "    }\n",
       "</style>\n",
       "<table border=\"1\" class=\"dataframe\">\n",
       "  <thead>\n",
       "    <tr style=\"text-align: right;\">\n",
       "      <th></th>\n",
       "      <th>event</th>\n",
       "      <th>year</th>\n",
       "      <th>type</th>\n",
       "    </tr>\n",
       "  </thead>\n",
       "  <tbody>\n",
       "    <tr>\n",
       "      <th>0</th>\n",
       "      <td>Thales</td>\n",
       "      <td>-624</td>\n",
       "      <td>birth</td>\n",
       "    </tr>\n",
       "    <tr>\n",
       "      <th>1</th>\n",
       "      <td>Pythagoras</td>\n",
       "      <td>-570</td>\n",
       "      <td>birth</td>\n",
       "    </tr>\n",
       "    <tr>\n",
       "      <th>2</th>\n",
       "      <td>Cyrus the Great</td>\n",
       "      <td>-559</td>\n",
       "      <td>birth</td>\n",
       "    </tr>\n",
       "    <tr>\n",
       "      <th>3</th>\n",
       "      <td>Darius I</td>\n",
       "      <td>-522</td>\n",
       "      <td>birth</td>\n",
       "    </tr>\n",
       "    <tr>\n",
       "      <th>4</th>\n",
       "      <td>Xerxes I</td>\n",
       "      <td>-486</td>\n",
       "      <td>birth</td>\n",
       "    </tr>\n",
       "    <tr>\n",
       "      <th>5</th>\n",
       "      <td>Leonidas</td>\n",
       "      <td>-480</td>\n",
       "      <td>birth</td>\n",
       "    </tr>\n",
       "    <tr>\n",
       "      <th>6</th>\n",
       "      <td>Socrates</td>\n",
       "      <td>-470</td>\n",
       "      <td>birth</td>\n",
       "    </tr>\n",
       "    <tr>\n",
       "      <th>7</th>\n",
       "      <td>Plato</td>\n",
       "      <td>-427</td>\n",
       "      <td>birth</td>\n",
       "    </tr>\n",
       "    <tr>\n",
       "      <th>8</th>\n",
       "      <td>Euclid</td>\n",
       "      <td>-300</td>\n",
       "      <td>birth</td>\n",
       "    </tr>\n",
       "    <tr>\n",
       "      <th>9</th>\n",
       "      <td>Aristotle</td>\n",
       "      <td>-384</td>\n",
       "      <td>birth</td>\n",
       "    </tr>\n",
       "  </tbody>\n",
       "</table>\n",
       "</div>"
      ],
      "text/plain": [
       "             event  year    type\n",
       "0           Thales  -624   birth\n",
       "1       Pythagoras  -570   birth\n",
       "2  Cyrus the Great  -559   birth\n",
       "3         Darius I  -522   birth\n",
       "4         Xerxes I  -486   birth\n",
       "5         Leonidas  -480   birth\n",
       "6         Socrates  -470   birth\n",
       "7            Plato  -427   birth\n",
       "8           Euclid  -300   birth\n",
       "9        Aristotle  -384   birth"
      ]
     },
     "execution_count": 3,
     "metadata": {},
     "output_type": "execute_result"
    }
   ],
   "source": [
    "df.head(10)"
   ]
  },
  {
   "cell_type": "code",
   "execution_count": 4,
   "metadata": {},
   "outputs": [
    {
     "name": "stdout",
     "output_type": "stream",
     "text": [
      "<class 'pandas.core.frame.DataFrame'>\n",
      "RangeIndex: 210 entries, 0 to 209\n",
      "Data columns (total 3 columns):\n",
      " #   Column  Non-Null Count  Dtype \n",
      "---  ------  --------------  ----- \n",
      " 0   event   210 non-null    object\n",
      " 1   year    210 non-null    int64 \n",
      " 2   type    210 non-null    object\n",
      "dtypes: int64(1), object(2)\n",
      "memory usage: 5.0+ KB\n"
     ]
    }
   ],
   "source": [
    "df.info()"
   ]
  },
  {
   "attachments": {},
   "cell_type": "markdown",
   "metadata": {},
   "source": [
    "## Calcualte y"
   ]
  },
  {
   "cell_type": "code",
   "execution_count": 5,
   "metadata": {},
   "outputs": [],
   "source": [
    "#$\n",
    "# add a column names y\n",
    "df['y'] = 1\n",
    "# This columns is 1 for unique years\n",
    "# for years that happened more than once, it is an index for each occurence\n",
    "# so the first time it appears its 1, the second time its 2, etc\n",
    "df['y'] = df.groupby('year').cumcount() + 1"
   ]
  },
  {
   "cell_type": "code",
   "execution_count": 6,
   "metadata": {},
   "outputs": [
    {
     "data": {
      "text/html": [
       "<div>\n",
       "<style scoped>\n",
       "    .dataframe tbody tr th:only-of-type {\n",
       "        vertical-align: middle;\n",
       "    }\n",
       "\n",
       "    .dataframe tbody tr th {\n",
       "        vertical-align: top;\n",
       "    }\n",
       "\n",
       "    .dataframe thead th {\n",
       "        text-align: right;\n",
       "    }\n",
       "</style>\n",
       "<table border=\"1\" class=\"dataframe\">\n",
       "  <thead>\n",
       "    <tr style=\"text-align: right;\">\n",
       "      <th></th>\n",
       "      <th>event</th>\n",
       "      <th>year</th>\n",
       "      <th>type</th>\n",
       "      <th>y</th>\n",
       "    </tr>\n",
       "  </thead>\n",
       "  <tbody>\n",
       "    <tr>\n",
       "      <th>172</th>\n",
       "      <td>PHP</td>\n",
       "      <td>1995</td>\n",
       "      <td>programming language</td>\n",
       "      <td>6</td>\n",
       "    </tr>\n",
       "    <tr>\n",
       "      <th>185</th>\n",
       "      <td>Typescript</td>\n",
       "      <td>2012</td>\n",
       "      <td>programming language</td>\n",
       "      <td>5</td>\n",
       "    </tr>\n",
       "    <tr>\n",
       "      <th>171</th>\n",
       "      <td>Javascript</td>\n",
       "      <td>1995</td>\n",
       "      <td>programming language</td>\n",
       "      <td>5</td>\n",
       "    </tr>\n",
       "    <tr>\n",
       "      <th>170</th>\n",
       "      <td>Ruby</td>\n",
       "      <td>1995</td>\n",
       "      <td>programming language</td>\n",
       "      <td>4</td>\n",
       "    </tr>\n",
       "    <tr>\n",
       "      <th>179</th>\n",
       "      <td>Node.js</td>\n",
       "      <td>2009</td>\n",
       "      <td>programming language</td>\n",
       "      <td>4</td>\n",
       "    </tr>\n",
       "  </tbody>\n",
       "</table>\n",
       "</div>"
      ],
      "text/plain": [
       "          event  year                   type  y\n",
       "172         PHP  1995   programming language  6\n",
       "185  Typescript  2012   programming language  5\n",
       "171  Javascript  1995   programming language  5\n",
       "170        Ruby  1995   programming language  4\n",
       "179     Node.js  2009   programming language  4"
      ]
     },
     "execution_count": 6,
     "metadata": {},
     "output_type": "execute_result"
    }
   ],
   "source": [
    "df.sort_values(by=['y'], ascending=False).head()"
   ]
  },
  {
   "attachments": {},
   "cell_type": "markdown",
   "metadata": {},
   "source": [
    "## Plot using Matplotlib"
   ]
  },
  {
   "cell_type": "code",
   "execution_count": 7,
   "metadata": {},
   "outputs": [
    {
     "data": {
      "text/plain": [
       "<Axes: xlabel='year', ylabel='y'>"
      ]
     },
     "execution_count": 7,
     "metadata": {},
     "output_type": "execute_result"
    },
    {
     "data": {
      "image/png": "[encoded data removed]",
      "text/plain": [
       "<Figure size 640x480 with 1 Axes>"
      ]
     },
     "metadata": {},
     "output_type": "display_data"
    }
   ],
   "source": [
    "#$\n",
    "sns.scatterplot(x='year', y='y', data=df, s=100, color='red')"
   ]
  },
  {
   "attachments": {},
   "cell_type": "markdown",
   "metadata": {},
   "source": [
    "## Plot using Plotly"
   ]
  },
  {
   "cell_type": "code",
   "execution_count": 8,
   "metadata": {},
   "outputs": [
    {
     "data": {
      "application/vnd.plotly.v1+json": {
       "config": {
        "plotlyServerURL": "https://plot.ly"
       },
       "data": [
        {
         "hovertemplate": "year=%{x}<br>y=%{y}<br>event=%{text}<extra></extra>",
         "legendgroup": "",
         "marker": {
          "color": "#636efa",
          "symbol": "circle"
         },
         "mode": "markers+text",
         "name": "",
         "orientation": "v",
         "showlegend": false,
         "text": [
          "Thales",
          "Pythagoras",
          "Cyrus the Great",
          "Darius I",
          "Xerxes I",
          "Leonidas",
          "Socrates",
          "Plato",
          "Euclid",
          "Aristotle",
          "Archemides",
          "Jesus Christ",
          "Ptolemy",
          "Julius Caesar",
          "Alexander the Great",
          "Mohammed",
          "Khwarizmi",
          "Ferdowsi",
          "Avicenna",
          "Omar Khayyam",
          "Nezami Ganjavi",
          "Genghis Khan",
          "Altair Ibn-La'Ahad",
          "Fibonacci",
          "Saadi",
          "Hafez",
          "Lorenzo de Medici",
          "Christopher Columbus",
          "Leonardo da Vinci",
          "Ezio Auditore",
          "Michelangelo",
          "Galileo Galilei",
          "William Shakespeare",
          "Johannes Kepler",
          "Rene Descartes",
          "Fermat",
          "Isaac Newton",
          "Edward Kenway",
          "Johann Bernoulli",
          "Leonard Euler",
          "George Washington",
          "James Watt",
          "Joesph-Louis Lagrange",
          "Antoine Lavoisier",
          "Pierre-Simon Laplace",
          "Joseph Fourier",
          "Napoleon Bonaparte",
          "Carl Freidrich Gauss",
          "Simeon Denis Poisson",
          "Charles Darwin",
          "Charles Dickens",
          "Ada Lovelace",
          "Karl Marx",
          "Dostoyevsky",
          "Maxwell",
          "Dimitri Mendeleev",
          "Karl Benz",
          "Wilhelm Rontgen",
          "Thomas Edison",
          "Nikola Tesla",
          "Henri Poincare",
          "Heinrich Hertz",
          "Marie Curie",
          "Albert Einstein",
          "Alexander Fleming",
          "Niels Bohr",
          "Henry Mosely",
          "Erwin Schrodinger",
          "Hubble",
          "Werner Heisenberg",
          "Enrico Fermi",
          "Paul Dirac",
          "Alan Turing",
          "Richard Feynman",
          "Stephen Hawking",
          "Bill Gates",
          "Steve Jobs",
          "Jeff Bezos",
          "Elon Musk",
          "Larry Page",
          "Sergey Brin",
          "Mark Zuckerberg",
          "Gholamreza Dar",
          "Paper",
          "Telephone",
          "Radio",
          "Television",
          "Computer",
          "Internet",
          "Satellite",
          "GPS",
          "Pyramids of Giza",
          "Temple of Artemis",
          "Hagia Sophia",
          "Persepolis",
          "Parthenon",
          "Statue of Zeus",
          "Mausoleum at Halicarnassus",
          "Colossus of Rhodes",
          "Lighthouse of Alexandria",
          "Colossus of Alexandria",
          "Great Wall of China",
          "Colosseum",
          "Tower of London",
          "Davids Statue",
          "Notre Dame",
          "Tower of Pisa",
          "St. Basil's Cathedral",
          "Taj Mahal",
          "Louvre Museum",
          "Big Ben",
          "Eiffel Tower",
          "Statue of Liberty",
          "Golden Gate Bridge",
          "Twin Towers",
          "London Eye",
          "Burj al Arab",
          "Burj Khalifa",
          "Artificial Intelligence",
          "Microsoft",
          "Digital Camera",
          "Computer Mouse",
          "Apple",
          "Quantum Computing",
          "Pixar",
          "Walt Disney",
          "Photoshop",
          "WWW",
          "OpenGL",
          "Nvidia",
          "Amazon",
          "DirectX",
          "Netflix",
          "Google",
          "Wikipedia",
          "SpaceX",
          "Tesla",
          "Facebook",
          "Twitter",
          "Iphone",
          "Airbnb",
          "Bitcoin",
          "Uber",
          "Instagram",
          "Snapchat",
          "GTX 680",
          "AlexNet",
          "Telegram",
          "GTX 780",
          "GTX 980",
          "TikTok",
          "GTX 1080",
          "Transformers",
          "BERT",
          "RTX 2080",
          "GPT 3",
          "RTX 3080",
          "RTX 4080",
          "Lisp",
          "C",
          "Prolog",
          "C++",
          "Erlang",
          "Perl",
          "Haskell",
          "Python",
          "Lua",
          "R",
          "Java",
          "Java",
          "Ruby",
          "Javascript",
          "PHP",
          "OCaml",
          "C#",
          "Scala",
          "F#",
          "Clojure",
          "Go",
          "Node.js",
          "Rust",
          "Kotlin",
          "Dart",
          "Julia",
          "Elixir",
          "Typescript",
          "React",
          "Vue.js",
          "Swift",
          "Angular",
          "Svelte",
          "Zig",
          "Renaisance",
          "America Discovery",
          "French Revolution",
          "Industrial Revolution",
          "American Revolution",
          "America Civil War",
          "WW I",
          "Holocaust",
          "WW II",
          "Cold War",
          "Korean War",
          "Vietnam War",
          "Islamic Revolution",
          "Iran-Iraq War",
          "Gulf War",
          "War on Terror",
          "COVID-19",
          "911"
         ],
         "textposition": "top center",
         "type": "scatter",
         "x": [
          -624,
          -570,
          -559,
          -522,
          -486,
          -480,
          -470,
          -427,
          -300,
          -384,
          -287,
          0,
          90,
          100,
          356,
          570,
          780,
          940,
          980,
          1048,
          1141,
          1162,
          1165,
          1170,
          1210,
          1325,
          1449,
          1451,
          1452,
          1459,
          1475,
          1564,
          1564,
          1571,
          1596,
          1607,
          1643,
          1693,
          1700,
          1707,
          1732,
          1736,
          1736,
          1743,
          1749,
          1768,
          1769,
          1777,
          1781,
          1809,
          1812,
          1815,
          1818,
          1821,
          1831,
          1834,
          1844,
          1845,
          1847,
          1856,
          1854,
          1857,
          1867,
          1879,
          1881,
          1885,
          1887,
          1887,
          1889,
          1901,
          1901,
          1902,
          1912,
          1918,
          1942,
          1955,
          1955,
          1964,
          1971,
          1973,
          1973,
          1984,
          1999,
          105,
          1876,
          1895,
          1927,
          1936,
          1969,
          1957,
          1973,
          -2580,
          -550,
          -532,
          -518,
          -447,
          -460,
          -350,
          -280,
          -280,
          -250,
          -221,
          80,
          1078,
          1504,
          1163,
          1173,
          1555,
          1632,
          1793,
          1859,
          1889,
          1886,
          1937,
          1972,
          1999,
          1999,
          2010,
          1956,
          1975,
          1975,
          1976,
          1976,
          1980,
          1986,
          1986,
          1988,
          1990,
          1992,
          1993,
          1994,
          1995,
          1997,
          1998,
          2001,
          2002,
          2003,
          2004,
          2006,
          2007,
          2008,
          2009,
          2009,
          2010,
          2011,
          2012,
          2012,
          2013,
          2013,
          2014,
          2016,
          2016,
          2017,
          2018,
          2018,
          2020,
          2020,
          2022,
          1958,
          1972,
          1972,
          1983,
          1986,
          1987,
          1990,
          1991,
          1993,
          1993,
          1995,
          1995,
          1995,
          1995,
          1995,
          1996,
          2000,
          2003,
          2005,
          2007,
          2009,
          2009,
          2010,
          2011,
          2011,
          2012,
          2012,
          2012,
          2013,
          2014,
          2014,
          2016,
          2016,
          2019,
          1400,
          1492,
          1789,
          1760,
          1776,
          1861,
          1914,
          1933,
          1939,
          1947,
          1950,
          1955,
          1979,
          1980,
          1990,
          2001,
          2020,
          2001
         ],
         "xaxis": "x",
         "y": [
          1,
          1,
          1,
          1,
          1,
          1,
          1,
          1,
          1,
          1,
          1,
          1,
          1,
          1,
          1,
          1,
          1,
          1,
          1,
          1,
          1,
          1,
          1,
          1,
          1,
          1,
          1,
          1,
          1,
          1,
          1,
          1,
          2,
          1,
          1,
          1,
          1,
          1,
          1,
          1,
          1,
          1,
          2,
          1,
          1,
          1,
          1,
          1,
          1,
          1,
          1,
          1,
          1,
          1,
          1,
          1,
          1,
          1,
          1,
          1,
          1,
          1,
          1,
          1,
          1,
          1,
          1,
          2,
          1,
          1,
          2,
          1,
          1,
          1,
          1,
          1,
          2,
          1,
          1,
          1,
          2,
          1,
          1,
          1,
          1,
          1,
          1,
          1,
          1,
          1,
          3,
          1,
          1,
          1,
          1,
          1,
          1,
          1,
          1,
          2,
          1,
          1,
          1,
          1,
          1,
          1,
          1,
          1,
          1,
          1,
          1,
          2,
          1,
          1,
          1,
          2,
          3,
          1,
          1,
          1,
          2,
          1,
          2,
          1,
          1,
          2,
          1,
          1,
          1,
          1,
          1,
          1,
          1,
          1,
          1,
          1,
          1,
          1,
          1,
          1,
          1,
          1,
          2,
          2,
          1,
          1,
          2,
          1,
          2,
          1,
          1,
          2,
          1,
          1,
          2,
          1,
          2,
          1,
          1,
          2,
          3,
          1,
          3,
          1,
          2,
          1,
          2,
          3,
          2,
          3,
          4,
          5,
          6,
          1,
          1,
          2,
          1,
          2,
          3,
          4,
          3,
          2,
          3,
          3,
          4,
          5,
          3,
          2,
          3,
          3,
          4,
          1,
          1,
          1,
          1,
          1,
          1,
          1,
          1,
          1,
          1,
          1,
          1,
          3,
          1,
          2,
          3,
          2,
          3,
          3
         ],
         "yaxis": "y"
        }
       ],
       "layout": {
        "legend": {
         "tracegroupgap": 0
        },
        "margin": {
         "t": 60
        },
        "template": {
         "data": {
          "bar": [
           {
            "error_x": {
             "color": "#2a3f5f"
            },
            "error_y": {
             "color": "#2a3f5f"
            },
            "marker": {
             "line": {
              "color": "#E5ECF6",
              "width": 0.5
             },
             "pattern": {
              "fillmode": "overlay",
              "size": 10,
              "solidity": 0.2
             }
            },
            "type": "bar"
           }
          ],
          "barpolar": [
           {
            "marker": {
             "line": {
              "color": "#E5ECF6",
              "width": 0.5
             },
             "pattern": {
              "fillmode": "overlay",
              "size": 10,
              "solidity": 0.2
             }
            },
            "type": "barpolar"
           }
          ],
          "carpet": [
           {
            "aaxis": {
             "endlinecolor": "#2a3f5f",
             "gridcolor": "white",
             "linecolor": "white",
             "minorgridcolor": "white",
             "startlinecolor": "#2a3f5f"
            },
            "baxis": {
             "endlinecolor": "#2a3f5f",
             "gridcolor": "white",
             "linecolor": "white",
             "minorgridcolor": "white",
             "startlinecolor": "#2a3f5f"
            },
            "type": "carpet"
           }
          ],
          "choropleth": [
           {
            "colorbar": {
             "outlinewidth": 0,
             "ticks": ""
            },
            "type": "choropleth"
           }
          ],
          "contour": [
           {
            "colorbar": {
             "outlinewidth": 0,
             "ticks": ""
            },
            "colorscale": [
             [
              0,
              "#0d0887"
             ],
             [
              0.1111111111111111,
              "#46039f"
             ],
             [
              0.2222222222222222,
              "#7201a8"
             ],
             [
              0.3333333333333333,
              "#9c179e"
             ],
             [
              0.4444444444444444,
              "#bd3786"
             ],
             [
              0.5555555555555556,
              "#d8576b"
             ],
             [
              0.6666666666666666,
              "#ed7953"
             ],
             [
              0.7777777777777778,
              "#fb9f3a"
             ],
             [
              0.8888888888888888,
              "#fdca26"
             ],
             [
              1,
              "#f0f921"
             ]
            ],
            "type": "contour"
           }
          ],
          "contourcarpet": [
           {
            "colorbar": {
             "outlinewidth": 0,
             "ticks": ""
            },
            "type": "contourcarpet"
           }
          ],
          "heatmap": [
           {
            "colorbar": {
             "outlinewidth": 0,
             "ticks": ""
            },
            "colorscale": [
             [
              0,
              "#0d0887"
             ],
             [
              0.1111111111111111,
              "#46039f"
             ],
             [
              0.2222222222222222,
              "#7201a8"
             ],
             [
              0.3333333333333333,
              "#9c179e"
             ],
             [
              0.4444444444444444,
              "#bd3786"
             ],
             [
              0.5555555555555556,
              "#d8576b"
             ],
             [
              0.6666666666666666,
              "#ed7953"
             ],
             [
              0.7777777777777778,
              "#fb9f3a"
             ],
             [
              0.8888888888888888,
              "#fdca26"
             ],
             [
              1,
              "#f0f921"
             ]
            ],
            "type": "heatmap"
           }
          ],
          "heatmapgl": [
           {
            "colorbar": {
             "outlinewidth": 0,
             "ticks": ""
            },
            "colorscale": [
             [
              0,
              "#0d0887"
             ],
             [
              0.1111111111111111,
              "#46039f"
             ],
             [
              0.2222222222222222,
              "#7201a8"
             ],
             [
              0.3333333333333333,
              "#9c179e"
             ],
             [
              0.4444444444444444,
              "#bd3786"
             ],
             [
              0.5555555555555556,
              "#d8576b"
             ],
             [
              0.6666666666666666,
              "#ed7953"
             ],
             [
              0.7777777777777778,
              "#fb9f3a"
             ],
             [
              0.8888888888888888,
              "#fdca26"
             ],
             [
              1,
              "#f0f921"
             ]
            ],
            "type": "heatmapgl"
           }
          ],
          "histogram": [
           {
            "marker": {
             "pattern": {
              "fillmode": "overlay",
              "size": 10,
              "solidity": 0.2
             }
            },
            "type": "histogram"
           }
          ],
          "histogram2d": [
           {
            "colorbar": {
             "outlinewidth": 0,
             "ticks": ""
            },
            "colorscale": [
             [
              0,
              "#0d0887"
             ],
             [
              0.1111111111111111,
              "#46039f"
             ],
             [
              0.2222222222222222,
              "#7201a8"
             ],
             [
              0.3333333333333333,
              "#9c179e"
             ],
             [
              0.4444444444444444,
              "#bd3786"
             ],
             [
              0.5555555555555556,
              "#d8576b"
             ],
             [
              0.6666666666666666,
              "#ed7953"
             ],
             [
              0.7777777777777778,
              "#fb9f3a"
             ],
             [
              0.8888888888888888,
              "#fdca26"
             ],
             [
              1,
              "#f0f921"
             ]
            ],
            "type": "histogram2d"
           }
          ],
          "histogram2dcontour": [
           {
            "colorbar": {
             "outlinewidth": 0,
             "ticks": ""
            },
            "colorscale": [
             [
              0,
              "#0d0887"
             ],
             [
              0.1111111111111111,
              "#46039f"
             ],
             [
              0.2222222222222222,
              "#7201a8"
             ],
             [
              0.3333333333333333,
              "#9c179e"
             ],
             [
              0.4444444444444444,
              "#bd3786"
             ],
             [
              0.5555555555555556,
              "#d8576b"
             ],
             [
              0.6666666666666666,
              "#ed7953"
             ],
             [
              0.7777777777777778,
              "#fb9f3a"
             ],
             [
              0.8888888888888888,
              "#fdca26"
             ],
             [
              1,
              "#f0f921"
             ]
            ],
            "type": "histogram2dcontour"
           }
          ],
          "mesh3d": [
           {
            "colorbar": {
             "outlinewidth": 0,
             "ticks": ""
            },
            "type": "mesh3d"
           }
          ],
          "parcoords": [
           {
            "line": {
             "colorbar": {
              "outlinewidth": 0,
              "ticks": ""
             }
            },
            "type": "parcoords"
           }
          ],
          "pie": [
           {
            "automargin": true,
            "type": "pie"
           }
          ],
          "scatter": [
           {
            "fillpattern": {
             "fillmode": "overlay",
             "size": 10,
             "solidity": 0.2
            },
            "type": "scatter"
           }
          ],
          "scatter3d": [
           {
            "line": {
             "colorbar": {
              "outlinewidth": 0,
              "ticks": ""
             }
            },
            "marker": {
             "colorbar": {
              "outlinewidth": 0,
              "ticks": ""
             }
            },
            "type": "scatter3d"
           }
          ],
          "scattercarpet": [
           {
            "marker": {
             "colorbar": {
              "outlinewidth": 0,
              "ticks": ""
             }
            },
            "type": "scattercarpet"
           }
          ],
          "scattergeo": [
           {
            "marker": {
             "colorbar": {
              "outlinewidth": 0,
              "ticks": ""
             }
            },
            "type": "scattergeo"
           }
          ],
          "scattergl": [
           {
            "marker": {
             "colorbar": {
              "outlinewidth": 0,
              "ticks": ""
             }
            },
            "type": "scattergl"
           }
          ],
          "scattermapbox": [
           {
            "marker": {
             "colorbar": {
              "outlinewidth": 0,
              "ticks": ""
             }
            },
            "type": "scattermapbox"
           }
          ],
          "scatterpolar": [
           {
            "marker": {
             "colorbar": {
              "outlinewidth": 0,
              "ticks": ""
             }
            },
            "type": "scatterpolar"
           }
          ],
          "scatterpolargl": [
           {
            "marker": {
             "colorbar": {
              "outlinewidth": 0,
              "ticks": ""
             }
            },
            "type": "scatterpolargl"
           }
          ],
          "scatterternary": [
           {
            "marker": {
             "colorbar": {
              "outlinewidth": 0,
              "ticks": ""
             }
            },
            "type": "scatterternary"
           }
          ],
          "surface": [
           {
            "colorbar": {
             "outlinewidth": 0,
             "ticks": ""
            },
            "colorscale": [
             [
              0,
              "#0d0887"
             ],
             [
              0.1111111111111111,
              "#46039f"
             ],
             [
              0.2222222222222222,
              "#7201a8"
             ],
             [
              0.3333333333333333,
              "#9c179e"
             ],
             [
              0.4444444444444444,
              "#bd3786"
             ],
             [
              0.5555555555555556,
              "#d8576b"
             ],
             [
              0.6666666666666666,
              "#ed7953"
             ],
             [
              0.7777777777777778,
              "#fb9f3a"
             ],
             [
              0.8888888888888888,
              "#fdca26"
             ],
             [
              1,
              "#f0f921"
             ]
            ],
            "type": "surface"
           }
          ],
          "table": [
           {
            "cells": {
             "fill": {
              "color": "#EBF0F8"
             },
             "line": {
              "color": "white"
             }
            },
            "header": {
             "fill": {
              "color": "#C8D4E3"
             },
             "line": {
              "color": "white"
             }
            },
            "type": "table"
           }
          ]
         },
         "layout": {
          "annotationdefaults": {
           "arrowcolor": "#2a3f5f",
           "arrowhead": 0,
           "arrowwidth": 1
          },
          "autotypenumbers": "strict",
          "coloraxis": {
           "colorbar": {
            "outlinewidth": 0,
            "ticks": ""
           }
          },
          "colorscale": {
           "diverging": [
            [
             0,
             "#8e0152"
            ],
            [
             0.1,
             "#c51b7d"
            ],
            [
             0.2,
             "#de77ae"
            ],
            [
             0.3,
             "#f1b6da"
            ],
            [
             0.4,
             "#fde0ef"
            ],
            [
             0.5,
             "#f7f7f7"
            ],
            [
             0.6,
             "#e6f5d0"
            ],
            [
             0.7,
             "#b8e186"
            ],
            [
             0.8,
             "#7fbc41"
            ],
            [
             0.9,
             "#4d9221"
            ],
            [
             1,
             "#276419"
            ]
           ],
           "sequential": [
            [
             0,
             "#0d0887"
            ],
            [
             0.1111111111111111,
             "#46039f"
            ],
            [
             0.2222222222222222,
             "#7201a8"
            ],
            [
             0.3333333333333333,
             "#9c179e"
            ],
            [
             0.4444444444444444,
             "#bd3786"
            ],
            [
             0.5555555555555556,
             "#d8576b"
            ],
            [
             0.6666666666666666,
             "#ed7953"
            ],
            [
             0.7777777777777778,
             "#fb9f3a"
            ],
            [
             0.8888888888888888,
             "#fdca26"
            ],
            [
             1,
             "#f0f921"
            ]
           ],
           "sequentialminus": [
            [
             0,
             "#0d0887"
            ],
            [
             0.1111111111111111,
             "#46039f"
            ],
            [
             0.2222222222222222,
             "#7201a8"
            ],
            [
             0.3333333333333333,
             "#9c179e"
            ],
            [
             0.4444444444444444,
             "#bd3786"
            ],
            [
             0.5555555555555556,
             "#d8576b"
            ],
            [
             0.6666666666666666,
             "#ed7953"
            ],
            [
             0.7777777777777778,
             "#fb9f3a"
            ],
            [
             0.8888888888888888,
             "#fdca26"
            ],
            [
             1,
             "#f0f921"
            ]
           ]
          },
          "colorway": [
           "#636efa",
           "#EF553B",
           "#00cc96",
           "#ab63fa",
           "#FFA15A",
           "#19d3f3",
           "#FF6692",
           "#B6E880",
           "#FF97FF",
           "#FECB52"
          ],
          "font": {
           "color": "#2a3f5f"
          },
          "geo": {
           "bgcolor": "white",
           "lakecolor": "white",
           "landcolor": "#E5ECF6",
           "showlakes": true,
           "showland": true,
           "subunitcolor": "white"
          },
          "hoverlabel": {
           "align": "left"
          },
          "hovermode": "closest",
          "mapbox": {
           "style": "light"
          },
          "paper_bgcolor": "white",
          "plot_bgcolor": "#E5ECF6",
          "polar": {
           "angularaxis": {
            "gridcolor": "white",
            "linecolor": "white",
            "ticks": ""
           },
           "bgcolor": "#E5ECF6",
           "radialaxis": {
            "gridcolor": "white",
            "linecolor": "white",
            "ticks": ""
           }
          },
          "scene": {
           "xaxis": {
            "backgroundcolor": "#E5ECF6",
            "gridcolor": "white",
            "gridwidth": 2,
            "linecolor": "white",
            "showbackground": true,
            "ticks": "",
            "zerolinecolor": "white"
           },
           "yaxis": {
            "backgroundcolor": "#E5ECF6",
            "gridcolor": "white",
            "gridwidth": 2,
            "linecolor": "white",
            "showbackground": true,
            "ticks": "",
            "zerolinecolor": "white"
           },
           "zaxis": {
            "backgroundcolor": "#E5ECF6",
            "gridcolor": "white",
            "gridwidth": 2,
            "linecolor": "white",
            "showbackground": true,
            "ticks": "",
            "zerolinecolor": "white"
           }
          },
          "shapedefaults": {
           "line": {
            "color": "#2a3f5f"
           }
          },
          "ternary": {
           "aaxis": {
            "gridcolor": "white",
            "linecolor": "white",
            "ticks": ""
           },
           "baxis": {
            "gridcolor": "white",
            "linecolor": "white",
            "ticks": ""
           },
           "bgcolor": "#E5ECF6",
           "caxis": {
            "gridcolor": "white",
            "linecolor": "white",
            "ticks": ""
           }
          },
          "title": {
           "x": 0.05
          },
          "xaxis": {
           "automargin": true,
           "gridcolor": "white",
           "linecolor": "white",
           "ticks": "",
           "title": {
            "standoff": 15
           },
           "zerolinecolor": "white",
           "zerolinewidth": 2
          },
          "yaxis": {
           "automargin": true,
           "gridcolor": "white",
           "linecolor": "white",
           "ticks": "",
           "title": {
            "standoff": 15
           },
           "zerolinecolor": "white",
           "zerolinewidth": 2
          }
         }
        },
        "xaxis": {
         "anchor": "y",
         "domain": [
          0,
          1
         ],
         "title": {
          "text": "year"
         }
        },
        "yaxis": {
         "anchor": "x",
         "domain": [
          0,
          1
         ],
         "title": {
          "text": "y"
         }
        }
       }
      }
     },
     "metadata": {},
     "output_type": "display_data"
    }
   ],
   "source": [
    "#$\n",
    "pd.options.plotting.backend = \"plotly\"\n",
    "\n",
    "# Plot the timeline\n",
    "# X axis is the year, Y axis is the y column, which is the index for each occurence\n",
    "# of the same year, Color is the type of event, Each event is labeled with the event name\n",
    "# labels should be vertical\n",
    "fig = df.plot.scatter(x='year', y='y', c='type', text='event')\n",
    "fig.update_traces(textposition='top center')\n",
    "# fig.update_layout(annotations=[\n",
    "#             go.layout.Annotation(x=point,\n",
    "#             y=np.sin(point),\n",
    "#             xref=\"x\",\n",
    "#             yref=\"y\",\n",
    "#             text=\"dict Text\",\n",
    "#             align='center',\n",
    "#             showarrow=False,\n",
    "#             yanchor='bottom',\n",
    "#             textangle=90) for point in t2])\n",
    "\n",
    "fig.show()\n"
   ]
  },
  {
   "attachments": {},
   "cell_type": "markdown",
   "metadata": {},
   "source": [
    "## Print"
   ]
  },
  {
   "cell_type": "code",
   "execution_count": 41,
   "metadata": {},
   "outputs": [
    {
     "data": {
      "text/plain": [
       "array([' construction', ' birth', ' invention', ' event', ' technology',\n",
       "       ' programming language'], dtype=object)"
      ]
     },
     "execution_count": 41,
     "metadata": {},
     "output_type": "execute_result"
    }
   ],
   "source": [
    "df.type.unique()"
   ]
  },
  {
   "cell_type": "code",
   "execution_count": 53,
   "metadata": {},
   "outputs": [
    {
     "data": {
      "text/html": [
       "<div>\n",
       "<style scoped>\n",
       "    .dataframe tbody tr th:only-of-type {\n",
       "        vertical-align: middle;\n",
       "    }\n",
       "\n",
       "    .dataframe tbody tr th {\n",
       "        vertical-align: top;\n",
       "    }\n",
       "\n",
       "    .dataframe thead th {\n",
       "        text-align: right;\n",
       "    }\n",
       "</style>\n",
       "<table border=\"1\" class=\"dataframe\">\n",
       "  <thead>\n",
       "    <tr style=\"text-align: right;\">\n",
       "      <th></th>\n",
       "      <th>type</th>\n",
       "      <th>count</th>\n",
       "    </tr>\n",
       "  </thead>\n",
       "  <tbody>\n",
       "    <tr>\n",
       "      <th>0</th>\n",
       "      <td>birth</td>\n",
       "      <td>83</td>\n",
       "    </tr>\n",
       "    <tr>\n",
       "      <th>1</th>\n",
       "      <td>technology</td>\n",
       "      <td>40</td>\n",
       "    </tr>\n",
       "    <tr>\n",
       "      <th>2</th>\n",
       "      <td>programming language</td>\n",
       "      <td>34</td>\n",
       "    </tr>\n",
       "    <tr>\n",
       "      <th>3</th>\n",
       "      <td>construction</td>\n",
       "      <td>27</td>\n",
       "    </tr>\n",
       "    <tr>\n",
       "      <th>4</th>\n",
       "      <td>event</td>\n",
       "      <td>18</td>\n",
       "    </tr>\n",
       "    <tr>\n",
       "      <th>5</th>\n",
       "      <td>invention</td>\n",
       "      <td>8</td>\n",
       "    </tr>\n",
       "  </tbody>\n",
       "</table>\n",
       "</div>"
      ],
      "text/plain": [
       "                    type  count\n",
       "0                  birth     83\n",
       "1             technology     40\n",
       "2   programming language     34\n",
       "3           construction     27\n",
       "4                  event     18\n",
       "5              invention      8"
      ]
     },
     "execution_count": 53,
     "metadata": {},
     "output_type": "execute_result"
    }
   ],
   "source": [
    "# group by type and add a column named count\n",
    "df_type = df.groupby('type').count().reset_index()\n",
    "# add a column named count\n",
    "df_type['count'] = df_type['event']\n",
    "# remove other columns\n",
    "df_type = df_type[['type','count']]\n",
    "# sort by count\n",
    "df_type = df_type.sort_values(by=['count'], ascending=False)\n",
    "df_type = df_type.reset_index(drop=True)\n",
    "df_type"
   ]
  },
  {
   "cell_type": "code",
   "execution_count": 56,
   "metadata": {},
   "outputs": [
    {
     "name": "stdout",
     "output_type": "stream",
     "text": [
      "|    | type                 |   count |\n",
      "|---:|:---------------------|--------:|\n",
      "|  0 | birth                |      83 |\n",
      "|  1 | technology           |      40 |\n",
      "|  2 | programming language |      34 |\n",
      "|  3 | construction         |      27 |\n",
      "|  4 | event                |      18 |\n",
      "|  5 | invention            |       8 |\n"
     ]
    }
   ],
   "source": [
    "print(df_type.to_markdown())"
   ]
  },
  {
   "cell_type": "code",
   "execution_count": 52,
   "metadata": {},
   "outputs": [
    {
     "name": "stdout",
     "output_type": "stream",
     "text": [
      "\u001b[32m 2580 BC    Pyramids of Giza             construction\n",
      "\u001b[37m  624 BC    Thales                       birth\n",
      "\u001b[37m  570 BC    Pythagoras                   birth\n",
      "\u001b[37m  559 BC    Cyrus the Great              birth\n",
      "\u001b[32m  550 BC    Temple of Artemis            construction\n",
      "\u001b[32m  532 BC    Hagia Sophia                 construction\n",
      "\u001b[37m  522 BC    Darius I                     birth\n",
      "\u001b[32m  518 BC    Persepolis                   construction\n",
      "\u001b[37m  486 BC    Xerxes I                     birth\n",
      "\u001b[37m  480 BC    Leonidas                     birth\n",
      "\u001b[37m  470 BC    Socrates                     birth\n",
      "\u001b[32m  460 BC    Statue of Zeus               construction\n",
      "\u001b[32m  447 BC    Parthenon                    construction\n",
      "\u001b[37m  427 BC    Plato                        birth\n",
      "\u001b[37m  384 BC    Aristotle                    birth\n",
      "\u001b[32m  350 BC    Mausoleum at Halicarnassus   construction\n",
      "\u001b[37m  300 BC    Euclid                       birth\n",
      "\u001b[37m  287 BC    Archemides                   birth\n",
      "\u001b[32m  280 BC    Lighthouse of Alexandria     construction\n",
      "\u001b[32m  280 BC    Colossus of Rhodes           construction\n",
      "\u001b[32m  250 BC    Colossus of Alexandria       construction\n",
      "\u001b[32m  221 BC    Great Wall of China          construction\n",
      "\u001b[37m    0 AD    Jesus Christ                 birth\n",
      "\u001b[32m   80 AD    Colosseum                    construction\n",
      "\u001b[37m   90 AD    Ptolemy                      birth\n",
      "\u001b[37m  100 AD    Julius Caesar                birth\n",
      "\u001b[34m  105 AD    Paper                        invention\n",
      "\u001b[37m  356 AD    Alexander the Great          birth\n",
      "\u001b[37m  570 AD    Mohammed                     birth\n",
      "\u001b[37m  780 AD    Khwarizmi                    birth\n",
      "\u001b[37m  940 AD    Ferdowsi                     birth\n",
      "\u001b[37m  980 AD    Avicenna                     birth\n",
      "\u001b[37m 1048 AD    Omar Khayyam                 birth\n",
      "\u001b[32m 1078 AD    Tower of London              construction\n",
      "\u001b[37m 1141 AD    Nezami Ganjavi               birth\n",
      "\u001b[37m 1162 AD    Genghis Khan                 birth\n",
      "\u001b[32m 1163 AD    Notre Dame                   construction\n",
      "\u001b[37m 1165 AD    Altair Ibn-La'Ahad           birth\n",
      "\u001b[37m 1170 AD    Fibonacci                    birth\n",
      "\u001b[32m 1173 AD    Tower of Pisa                construction\n",
      "\u001b[37m 1210 AD    Saadi                        birth\n",
      "\u001b[37m 1325 AD    Hafez                        birth\n",
      "\u001b[35m 1400 AD    Renaisance                   event\n",
      "\u001b[37m 1449 AD    Lorenzo de Medici            birth\n",
      "\u001b[37m 1451 AD    Christopher Columbus         birth\n",
      "\u001b[37m 1452 AD    Leonardo da Vinci            birth\n",
      "\u001b[37m 1459 AD    Ezio Auditore                birth\n",
      "\u001b[37m 1475 AD    Michelangelo                 birth\n",
      "\u001b[35m 1492 AD    America Discovery            event\n",
      "\u001b[32m 1504 AD    Davids Statue                construction\n",
      "\u001b[32m 1555 AD    St. Basil's Cathedral        construction\n",
      "\u001b[37m 1564 AD    William Shakespeare          birth\n",
      "\u001b[37m 1564 AD    Galileo Galilei              birth\n",
      "\u001b[37m 1571 AD    Johannes Kepler              birth\n",
      "\u001b[37m 1596 AD    Rene Descartes               birth\n",
      "\u001b[37m 1607 AD    Fermat                       birth\n",
      "\u001b[32m 1632 AD    Taj Mahal                    construction\n",
      "\u001b[37m 1643 AD    Isaac Newton                 birth\n",
      "\u001b[37m 1693 AD    Edward Kenway                birth\n",
      "\u001b[37m 1700 AD    Johann Bernoulli             birth\n",
      "\u001b[37m 1707 AD    Leonard Euler                birth\n",
      "\u001b[37m 1732 AD    George Washington            birth\n",
      "\u001b[37m 1736 AD    James Watt                   birth\n",
      "\u001b[37m 1736 AD    Joesph-Louis Lagrange        birth\n",
      "\u001b[37m 1743 AD    Antoine Lavoisier            birth\n",
      "\u001b[37m 1749 AD    Pierre-Simon Laplace         birth\n",
      "\u001b[35m 1760 AD    Industrial Revolution        event\n",
      "\u001b[37m 1768 AD    Joseph Fourier               birth\n",
      "\u001b[37m 1769 AD    Napoleon Bonaparte           birth\n",
      "\u001b[35m 1776 AD    American Revolution          event\n",
      "\u001b[37m 1777 AD    Carl Freidrich Gauss         birth\n",
      "\u001b[37m 1781 AD    Simeon Denis Poisson         birth\n",
      "\u001b[35m 1789 AD    French Revolution            event\n",
      "\u001b[32m 1793 AD    Louvre Museum                construction\n",
      "\u001b[37m 1809 AD    Charles Darwin               birth\n",
      "\u001b[37m 1812 AD    Charles Dickens              birth\n",
      "\u001b[37m 1815 AD    Ada Lovelace                 birth\n",
      "\u001b[37m 1818 AD    Karl Marx                    birth\n",
      "\u001b[37m 1821 AD    Dostoyevsky                  birth\n",
      "\u001b[37m 1831 AD    Maxwell                      birth\n",
      "\u001b[37m 1834 AD    Dimitri Mendeleev            birth\n",
      "\u001b[37m 1844 AD    Karl Benz                    birth\n",
      "\u001b[37m 1845 AD    Wilhelm Rontgen              birth\n",
      "\u001b[37m 1847 AD    Thomas Edison                birth\n",
      "\u001b[37m 1854 AD    Henri Poincare               birth\n",
      "\u001b[37m 1856 AD    Nikola Tesla                 birth\n",
      "\u001b[37m 1857 AD    Heinrich Hertz               birth\n",
      "\u001b[32m 1859 AD    Big Ben                      construction\n",
      "\u001b[35m 1861 AD    America Civil War            event\n",
      "\u001b[37m 1867 AD    Marie Curie                  birth\n",
      "\u001b[34m 1876 AD    Telephone                    invention\n",
      "\u001b[37m 1879 AD    Albert Einstein              birth\n",
      "\u001b[37m 1881 AD    Alexander Fleming            birth\n",
      "\u001b[37m 1885 AD    Niels Bohr                   birth\n",
      "\u001b[32m 1886 AD    Statue of Liberty            construction\n",
      "\u001b[37m 1887 AD    Erwin Schrodinger            birth\n",
      "\u001b[37m 1887 AD    Henry Mosely                 birth\n",
      "\u001b[32m 1889 AD    Eiffel Tower                 construction\n",
      "\u001b[37m 1889 AD    Hubble                       birth\n",
      "\u001b[34m 1895 AD    Radio                        invention\n",
      "\u001b[37m 1901 AD    Werner Heisenberg            birth\n",
      "\u001b[37m 1901 AD    Enrico Fermi                 birth\n",
      "\u001b[37m 1902 AD    Paul Dirac                   birth\n",
      "\u001b[37m 1912 AD    Alan Turing                  birth\n",
      "\u001b[35m 1914 AD    WW I                         event\n",
      "\u001b[37m 1918 AD    Richard Feynman              birth\n",
      "\u001b[34m 1927 AD    Television                   invention\n",
      "\u001b[35m 1933 AD    Holocaust                    event\n",
      "\u001b[34m 1936 AD    Computer                     invention\n",
      "\u001b[32m 1937 AD    Golden Gate Bridge           construction\n",
      "\u001b[35m 1939 AD    WW II                        event\n",
      "\u001b[37m 1942 AD    Stephen Hawking              birth\n",
      "\u001b[35m 1947 AD    Cold War                     event\n",
      "\u001b[35m 1950 AD    Korean War                   event\n",
      "\u001b[35m 1955 AD    Vietnam War                  event\n",
      "\u001b[37m 1955 AD    Steve Jobs                   birth\n",
      "\u001b[37m 1955 AD    Bill Gates                   birth\n",
      "\u001b[36m 1956 AD    Artificial Intelligence      technology\n",
      "\u001b[34m 1957 AD    Satellite                    invention\n",
      "\u001b[31m 1958 AD    Lisp                         programming language\n",
      "\u001b[37m 1964 AD    Jeff Bezos                   birth\n",
      "\u001b[34m 1969 AD    Internet                     invention\n",
      "\u001b[37m 1971 AD    Elon Musk                    birth\n",
      "\u001b[32m 1972 AD    Twin Towers                  construction\n",
      "\u001b[31m 1972 AD    Prolog                       programming language\n",
      "\u001b[31m 1972 AD    C                            programming language\n",
      "\u001b[37m 1973 AD    Larry Page                   birth\n",
      "\u001b[37m 1973 AD    Sergey Brin                  birth\n",
      "\u001b[34m 1973 AD    GPS                          invention\n",
      "\u001b[36m 1975 AD    Microsoft                    technology\n",
      "\u001b[36m 1975 AD    Digital Camera               technology\n",
      "\u001b[36m 1976 AD    Apple                        technology\n",
      "\u001b[36m 1976 AD    Computer Mouse               technology\n",
      "\u001b[35m 1979 AD    Islamic Revolution           event\n",
      "\u001b[36m 1980 AD    Quantum Computing            technology\n",
      "\u001b[35m 1980 AD    Iran-Iraq War                event\n",
      "\u001b[31m 1983 AD    C++                          programming language\n",
      "\u001b[37m 1984 AD    Mark Zuckerberg              birth\n",
      "\u001b[36m 1986 AD    Walt Disney                  technology\n",
      "\u001b[36m 1986 AD    Pixar                        technology\n",
      "\u001b[31m 1986 AD    Erlang                       programming language\n",
      "\u001b[31m 1987 AD    Perl                         programming language\n",
      "\u001b[36m 1988 AD    Photoshop                    technology\n",
      "\u001b[35m 1990 AD    Gulf War                     event\n",
      "\u001b[36m 1990 AD    WWW                          technology\n",
      "\u001b[31m 1990 AD    Haskell                      programming language\n",
      "\u001b[31m 1991 AD    Python                       programming language\n",
      "\u001b[36m 1992 AD    OpenGL                       technology\n",
      "\u001b[31m 1993 AD    Lua                          programming language\n",
      "\u001b[31m 1993 AD    R                            programming language\n",
      "\u001b[36m 1993 AD    Nvidia                       technology\n",
      "\u001b[36m 1994 AD    Amazon                       technology\n",
      "\u001b[31m 1995 AD    PHP                          programming language\n",
      "\u001b[31m 1995 AD    Javascript                   programming language\n",
      "\u001b[36m 1995 AD    DirectX                      technology\n",
      "\u001b[31m 1995 AD    Ruby                         programming language\n",
      "\u001b[31m 1995 AD    Java                         programming language\n",
      "\u001b[31m 1995 AD    Java                         programming language\n",
      "\u001b[31m 1996 AD    OCaml                        programming language\n",
      "\u001b[36m 1997 AD    Netflix                      technology\n",
      "\u001b[36m 1998 AD    Google                       technology\n",
      "\u001b[37m 1999 AD    Gholamreza Dar               birth\n",
      "\u001b[32m 1999 AD    London Eye                   construction\n",
      "\u001b[32m 1999 AD    Burj al Arab                 construction\n",
      "\u001b[31m 2000 AD    C#                           programming language\n",
      "\u001b[35m 2001 AD    911                          event\n",
      "\u001b[36m 2001 AD    Wikipedia                    technology\n",
      "\u001b[35m 2001 AD    War on Terror                event\n",
      "\u001b[36m 2002 AD    SpaceX                       technology\n",
      "\u001b[31m 2003 AD    Scala                        programming language\n",
      "\u001b[36m 2003 AD    Tesla                        technology\n",
      "\u001b[36m 2004 AD    Facebook                     technology\n",
      "\u001b[31m 2005 AD    F#                           programming language\n",
      "\u001b[36m 2006 AD    Twitter                      technology\n",
      "\u001b[31m 2007 AD    Clojure                      programming language\n",
      "\u001b[36m 2007 AD    Iphone                       technology\n",
      "\u001b[36m 2008 AD    Airbnb                       technology\n",
      "\u001b[36m 2009 AD    Uber                         technology\n",
      "\u001b[31m 2009 AD    Go                           programming language\n",
      "\u001b[31m 2009 AD    Node.js                      programming language\n",
      "\u001b[36m 2009 AD    Bitcoin                      technology\n",
      "\u001b[32m 2010 AD    Burj Khalifa                 construction\n",
      "\u001b[31m 2010 AD    Rust                         programming language\n",
      "\u001b[36m 2010 AD    Instagram                    technology\n",
      "\u001b[31m 2011 AD    Dart                         programming language\n",
      "\u001b[36m 2011 AD    Snapchat                     technology\n",
      "\u001b[31m 2011 AD    Kotlin                       programming language\n",
      "\u001b[31m 2012 AD    Julia                        programming language\n",
      "\u001b[36m 2012 AD    AlexNet                      technology\n",
      "\u001b[36m 2012 AD    GTX 680                      technology\n",
      "\u001b[31m 2012 AD    Typescript                   programming language\n",
      "\u001b[31m 2012 AD    Elixir                       programming language\n",
      "\u001b[36m 2013 AD    GTX 780                      technology\n",
      "\u001b[31m 2013 AD    React                        programming language\n",
      "\u001b[36m 2013 AD    Telegram                     technology\n",
      "\u001b[36m 2014 AD    GTX 980                      technology\n",
      "\u001b[31m 2014 AD    Swift                        programming language\n",
      "\u001b[31m 2014 AD    Vue.js                       programming language\n",
      "\u001b[31m 2016 AD    Angular                      programming language\n",
      "\u001b[31m 2016 AD    Svelte                       programming language\n",
      "\u001b[36m 2016 AD    TikTok                       technology\n",
      "\u001b[36m 2016 AD    GTX 1080                     technology\n",
      "\u001b[36m 2017 AD    Transformers                 technology\n",
      "\u001b[36m 2018 AD    RTX 2080                     technology\n",
      "\u001b[36m 2018 AD    BERT                         technology\n",
      "\u001b[31m 2019 AD    Zig                          programming language\n",
      "\u001b[36m 2020 AD    RTX 3080                     technology\n",
      "\u001b[36m 2020 AD    GPT 3                        technology\n",
      "\u001b[35m 2020 AD    COVID-19                     event\n",
      "\u001b[36m 2022 AD    RTX 4080                     technology\n"
     ]
    }
   ],
   "source": [
    "import colorama \n",
    "from colorama import Fore\n",
    "\n",
    "# colors dict\n",
    "c = {\n",
    "        'birth': Fore.WHITE,\n",
    "        'construction': Fore.GREEN,\n",
    "        'invention': Fore.BLUE,\n",
    "        'event': Fore.MAGENTA,\n",
    "        'technology': Fore.CYAN,\n",
    "        'programming language': Fore.RED,\n",
    "        # 'event': Fore.CYAN,\n",
    "    }\n",
    "\n",
    "# Sort by year\n",
    "df.sort_values(by=['year'], inplace=True)\n",
    "\n",
    "# Longest event name\n",
    "max_event_name = df['event'].str.len().max()\n",
    "\n",
    "# Loop through the rows\n",
    "for index, row in df.iterrows():\n",
    "    year = row['year']\n",
    "    suffix = \" BC\" if year < 0 else \" AD\"\n",
    "    year = f\"{abs(year):5}{suffix}\"\n",
    "\n",
    "    # select color\n",
    "    color = c[row['type'].strip()]\n",
    "\n",
    "    print(f\"{color}{year:8}    {row['event']:<{max_event_name}}  {row['type']}\")\n"
   ]
  },
  {
   "cell_type": "code",
   "execution_count": 63,
   "metadata": {},
   "outputs": [
    {
     "name": "stdout",
     "output_type": "stream",
     "text": [
      "<pre>🟢 2580 BC    Pyramids of Giza             construction</pre>\n",
      "<pre>⚪  624 BC    Thales                       birth</pre>\n",
      "<pre>⚪  570 BC    Pythagoras                   birth</pre>\n",
      "<pre>⚪  559 BC    Cyrus the Great              birth</pre>\n",
      "<pre>🟢  550 BC    Temple of Artemis            construction</pre>\n",
      "<pre>🟢  532 BC    Hagia Sophia                 construction</pre>\n",
      "<pre>⚪  522 BC    Darius I                     birth</pre>\n",
      "<pre>🟢  518 BC    Persepolis                   construction</pre>\n",
      "<pre>⚪  486 BC    Xerxes I                     birth</pre>\n",
      "<pre>⚪  480 BC    Leonidas                     birth</pre>\n",
      "<pre>⚪  470 BC    Socrates                     birth</pre>\n",
      "<pre>🟢  460 BC    Statue of Zeus               construction</pre>\n",
      "<pre>🟢  447 BC    Parthenon                    construction</pre>\n",
      "<pre>⚪  427 BC    Plato                        birth</pre>\n",
      "<pre>⚪  384 BC    Aristotle                    birth</pre>\n",
      "<pre>🟢  350 BC    Mausoleum at Halicarnassus   construction</pre>\n",
      "<pre>⚪  300 BC    Euclid                       birth</pre>\n",
      "<pre>⚪  287 BC    Archemides                   birth</pre>\n",
      "<pre>🟢  280 BC    Lighthouse of Alexandria     construction</pre>\n",
      "<pre>🟢  280 BC    Colossus of Rhodes           construction</pre>\n",
      "<pre>🟢  250 BC    Colossus of Alexandria       construction</pre>\n",
      "<pre>🟢  221 BC    Great Wall of China          construction</pre>\n",
      "<pre>⚪    0 AD    Jesus Christ                 birth</pre>\n",
      "<pre>🟢   80 AD    Colosseum                    construction</pre>\n",
      "<pre>⚪   90 AD    Ptolemy                      birth</pre>\n",
      "<pre>⚪  100 AD    Julius Caesar                birth</pre>\n",
      "<pre>🔵  105 AD    Paper                        invention</pre>\n",
      "<pre>⚪  356 AD    Alexander the Great          birth</pre>\n",
      "<pre>⚪  570 AD    Mohammed                     birth</pre>\n",
      "<pre>⚪  780 AD    Khwarizmi                    birth</pre>\n",
      "<pre>⚪  940 AD    Ferdowsi                     birth</pre>\n",
      "<pre>⚪  980 AD    Avicenna                     birth</pre>\n",
      "<pre>⚪ 1048 AD    Omar Khayyam                 birth</pre>\n",
      "<pre>🟢 1078 AD    Tower of London              construction</pre>\n",
      "<pre>⚪ 1141 AD    Nezami Ganjavi               birth</pre>\n",
      "<pre>⚪ 1162 AD    Genghis Khan                 birth</pre>\n",
      "<pre>🟢 1163 AD    Notre Dame                   construction</pre>\n",
      "<pre>⚪ 1165 AD    Altair Ibn-La'Ahad           birth</pre>\n",
      "<pre>⚪ 1170 AD    Fibonacci                    birth</pre>\n",
      "<pre>🟢 1173 AD    Tower of Pisa                construction</pre>\n",
      "<pre>⚪ 1210 AD    Saadi                        birth</pre>\n",
      "<pre>⚪ 1325 AD    Hafez                        birth</pre>\n",
      "<pre>🟣 1400 AD    Renaisance                   event</pre>\n",
      "<pre>⚪ 1449 AD    Lorenzo de Medici            birth</pre>\n",
      "<pre>⚪ 1451 AD    Christopher Columbus         birth</pre>\n",
      "<pre>⚪ 1452 AD    Leonardo da Vinci            birth</pre>\n",
      "<pre>⚪ 1459 AD    Ezio Auditore                birth</pre>\n",
      "<pre>⚪ 1475 AD    Michelangelo                 birth</pre>\n",
      "<pre>🟣 1492 AD    America Discovery            event</pre>\n",
      "<pre>🟢 1504 AD    Davids Statue                construction</pre>\n",
      "<pre>🟢 1555 AD    St. Basil's Cathedral        construction</pre>\n",
      "<pre>⚪ 1564 AD    Galileo Galilei              birth</pre>\n",
      "<pre>⚪ 1564 AD    William Shakespeare          birth</pre>\n",
      "<pre>⚪ 1571 AD    Johannes Kepler              birth</pre>\n",
      "<pre>⚪ 1596 AD    Rene Descartes               birth</pre>\n",
      "<pre>⚪ 1607 AD    Fermat                       birth</pre>\n",
      "<pre>🟢 1632 AD    Taj Mahal                    construction</pre>\n",
      "<pre>⚪ 1643 AD    Isaac Newton                 birth</pre>\n",
      "<pre>⚪ 1693 AD    Edward Kenway                birth</pre>\n",
      "<pre>⚪ 1700 AD    Johann Bernoulli             birth</pre>\n",
      "<pre>⚪ 1707 AD    Leonard Euler                birth</pre>\n",
      "<pre>⚪ 1732 AD    George Washington            birth</pre>\n",
      "<pre>⚪ 1736 AD    James Watt                   birth</pre>\n",
      "<pre>⚪ 1736 AD    Joesph-Louis Lagrange        birth</pre>\n",
      "<pre>⚪ 1743 AD    Antoine Lavoisier            birth</pre>\n",
      "<pre>⚪ 1749 AD    Pierre-Simon Laplace         birth</pre>\n",
      "<pre>🟣 1760 AD    Industrial Revolution        event</pre>\n",
      "<pre>⚪ 1768 AD    Joseph Fourier               birth</pre>\n",
      "<pre>⚪ 1769 AD    Napoleon Bonaparte           birth</pre>\n",
      "<pre>🟣 1776 AD    American Revolution          event</pre>\n",
      "<pre>⚪ 1777 AD    Carl Freidrich Gauss         birth</pre>\n",
      "<pre>⚪ 1781 AD    Simeon Denis Poisson         birth</pre>\n",
      "<pre>🟣 1789 AD    French Revolution            event</pre>\n",
      "<pre>🟢 1793 AD    Louvre Museum                construction</pre>\n",
      "<pre>⚪ 1809 AD    Charles Darwin               birth</pre>\n",
      "<pre>⚪ 1812 AD    Charles Dickens              birth</pre>\n",
      "<pre>⚪ 1815 AD    Ada Lovelace                 birth</pre>\n",
      "<pre>⚪ 1818 AD    Karl Marx                    birth</pre>\n",
      "<pre>⚪ 1821 AD    Dostoyevsky                  birth</pre>\n",
      "<pre>⚪ 1831 AD    Maxwell                      birth</pre>\n",
      "<pre>⚪ 1834 AD    Dimitri Mendeleev            birth</pre>\n",
      "<pre>⚪ 1844 AD    Karl Benz                    birth</pre>\n",
      "<pre>⚪ 1845 AD    Wilhelm Rontgen              birth</pre>\n",
      "<pre>⚪ 1847 AD    Thomas Edison                birth</pre>\n",
      "<pre>⚪ 1854 AD    Henri Poincare               birth</pre>\n",
      "<pre>⚪ 1856 AD    Nikola Tesla                 birth</pre>\n",
      "<pre>⚪ 1857 AD    Heinrich Hertz               birth</pre>\n",
      "<pre>🟢 1859 AD    Big Ben                      construction</pre>\n",
      "<pre>🟣 1861 AD    America Civil War            event</pre>\n",
      "<pre>⚪ 1867 AD    Marie Curie                  birth</pre>\n",
      "<pre>🔵 1876 AD    Telephone                    invention</pre>\n",
      "<pre>⚪ 1879 AD    Albert Einstein              birth</pre>\n",
      "<pre>⚪ 1881 AD    Alexander Fleming            birth</pre>\n",
      "<pre>⚪ 1885 AD    Niels Bohr                   birth</pre>\n",
      "<pre>🟢 1886 AD    Statue of Liberty            construction</pre>\n",
      "<pre>⚪ 1887 AD    Erwin Schrodinger            birth</pre>\n",
      "<pre>⚪ 1887 AD    Henry Mosely                 birth</pre>\n",
      "<pre>🟢 1889 AD    Eiffel Tower                 construction</pre>\n",
      "<pre>⚪ 1889 AD    Hubble                       birth</pre>\n",
      "<pre>🔵 1895 AD    Radio                        invention</pre>\n",
      "<pre>⚪ 1901 AD    Werner Heisenberg            birth</pre>\n",
      "<pre>⚪ 1901 AD    Enrico Fermi                 birth</pre>\n",
      "<pre>⚪ 1902 AD    Paul Dirac                   birth</pre>\n",
      "<pre>⚪ 1912 AD    Alan Turing                  birth</pre>\n",
      "<pre>🟣 1914 AD    WW I                         event</pre>\n",
      "<pre>⚪ 1918 AD    Richard Feynman              birth</pre>\n",
      "<pre>🔵 1927 AD    Television                   invention</pre>\n",
      "<pre>🟣 1933 AD    Holocaust                    event</pre>\n",
      "<pre>🔵 1936 AD    Computer                     invention</pre>\n",
      "<pre>🟢 1937 AD    Golden Gate Bridge           construction</pre>\n",
      "<pre>🟣 1939 AD    WW II                        event</pre>\n",
      "<pre>⚪ 1942 AD    Stephen Hawking              birth</pre>\n",
      "<pre>🟣 1947 AD    Cold War                     event</pre>\n",
      "<pre>🟣 1950 AD    Korean War                   event</pre>\n",
      "<pre>🟣 1955 AD    Vietnam War                  event</pre>\n",
      "<pre>⚪ 1955 AD    Steve Jobs                   birth</pre>\n",
      "<pre>⚪ 1955 AD    Bill Gates                   birth</pre>\n",
      "<pre>🟡 1956 AD    Artificial Intelligence      technology</pre>\n",
      "<pre>🔵 1957 AD    Satellite                    invention</pre>\n",
      "<pre>🔴 1958 AD    Lisp                         programming language</pre>\n",
      "<pre>⚪ 1964 AD    Jeff Bezos                   birth</pre>\n",
      "<pre>🔵 1969 AD    Internet                     invention</pre>\n",
      "<pre>⚪ 1971 AD    Elon Musk                    birth</pre>\n",
      "<pre>🟢 1972 AD    Twin Towers                  construction</pre>\n",
      "<pre>🔴 1972 AD    Prolog                       programming language</pre>\n",
      "<pre>🔴 1972 AD    C                            programming language</pre>\n",
      "<pre>⚪ 1973 AD    Larry Page                   birth</pre>\n",
      "<pre>⚪ 1973 AD    Sergey Brin                  birth</pre>\n",
      "<pre>🔵 1973 AD    GPS                          invention</pre>\n",
      "<pre>🟡 1975 AD    Digital Camera               technology</pre>\n",
      "<pre>🟡 1975 AD    Microsoft                    technology</pre>\n",
      "<pre>🟡 1976 AD    Apple                        technology</pre>\n",
      "<pre>🟡 1976 AD    Computer Mouse               technology</pre>\n",
      "<pre>🟣 1979 AD    Islamic Revolution           event</pre>\n",
      "<pre>🟡 1980 AD    Quantum Computing            technology</pre>\n",
      "<pre>🟣 1980 AD    Iran-Iraq War                event</pre>\n",
      "<pre>🔴 1983 AD    C++                          programming language</pre>\n",
      "<pre>⚪ 1984 AD    Mark Zuckerberg              birth</pre>\n",
      "<pre>🟡 1986 AD    Walt Disney                  technology</pre>\n",
      "<pre>🟡 1986 AD    Pixar                        technology</pre>\n",
      "<pre>🔴 1986 AD    Erlang                       programming language</pre>\n",
      "<pre>🔴 1987 AD    Perl                         programming language</pre>\n",
      "<pre>🟡 1988 AD    Photoshop                    technology</pre>\n",
      "<pre>🟣 1990 AD    Gulf War                     event</pre>\n",
      "<pre>🟡 1990 AD    WWW                          technology</pre>\n",
      "<pre>🔴 1990 AD    Haskell                      programming language</pre>\n",
      "<pre>🔴 1991 AD    Python                       programming language</pre>\n",
      "<pre>🟡 1992 AD    OpenGL                       technology</pre>\n",
      "<pre>🔴 1993 AD    Lua                          programming language</pre>\n",
      "<pre>🔴 1993 AD    R                            programming language</pre>\n",
      "<pre>🟡 1993 AD    Nvidia                       technology</pre>\n",
      "<pre>🟡 1994 AD    Amazon                       technology</pre>\n",
      "<pre>🔴 1995 AD    Java                         programming language</pre>\n",
      "<pre>🔴 1995 AD    Ruby                         programming language</pre>\n",
      "<pre>🔴 1995 AD    Java                         programming language</pre>\n",
      "<pre>🔴 1995 AD    Javascript                   programming language</pre>\n",
      "<pre>🔴 1995 AD    PHP                          programming language</pre>\n",
      "<pre>🟡 1995 AD    DirectX                      technology</pre>\n",
      "<pre>🔴 1996 AD    OCaml                        programming language</pre>\n",
      "<pre>🟡 1997 AD    Netflix                      technology</pre>\n",
      "<pre>🟡 1998 AD    Google                       technology</pre>\n",
      "<pre>⚪ 1999 AD    Gholamreza Dar               birth</pre>\n",
      "<pre>🟢 1999 AD    London Eye                   construction</pre>\n",
      "<pre>🟢 1999 AD    Burj al Arab                 construction</pre>\n",
      "<pre>🔴 2000 AD    C#                           programming language</pre>\n",
      "<pre>🟣 2001 AD    911                          event</pre>\n",
      "<pre>🟡 2001 AD    Wikipedia                    technology</pre>\n",
      "<pre>🟣 2001 AD    War on Terror                event</pre>\n",
      "<pre>🟡 2002 AD    SpaceX                       technology</pre>\n",
      "<pre>🟡 2003 AD    Tesla                        technology</pre>\n",
      "<pre>🔴 2003 AD    Scala                        programming language</pre>\n",
      "<pre>🟡 2004 AD    Facebook                     technology</pre>\n",
      "<pre>🔴 2005 AD    F#                           programming language</pre>\n",
      "<pre>🟡 2006 AD    Twitter                      technology</pre>\n",
      "<pre>🔴 2007 AD    Clojure                      programming language</pre>\n",
      "<pre>🟡 2007 AD    Iphone                       technology</pre>\n",
      "<pre>🟡 2008 AD    Airbnb                       technology</pre>\n",
      "<pre>🟡 2009 AD    Uber                         technology</pre>\n",
      "<pre>🔴 2009 AD    Go                           programming language</pre>\n",
      "<pre>🔴 2009 AD    Node.js                      programming language</pre>\n",
      "<pre>🟡 2009 AD    Bitcoin                      technology</pre>\n",
      "<pre>🟡 2010 AD    Instagram                    technology</pre>\n",
      "<pre>🔴 2010 AD    Rust                         programming language</pre>\n",
      "<pre>🟢 2010 AD    Burj Khalifa                 construction</pre>\n",
      "<pre>🔴 2011 AD    Dart                         programming language</pre>\n",
      "<pre>🟡 2011 AD    Snapchat                     technology</pre>\n",
      "<pre>🔴 2011 AD    Kotlin                       programming language</pre>\n",
      "<pre>🔴 2012 AD    Julia                        programming language</pre>\n",
      "<pre>🟡 2012 AD    AlexNet                      technology</pre>\n",
      "<pre>🟡 2012 AD    GTX 680                      technology</pre>\n",
      "<pre>🔴 2012 AD    Typescript                   programming language</pre>\n",
      "<pre>🔴 2012 AD    Elixir                       programming language</pre>\n",
      "<pre>🟡 2013 AD    Telegram                     technology</pre>\n",
      "<pre>🟡 2013 AD    GTX 780                      technology</pre>\n",
      "<pre>🔴 2013 AD    React                        programming language</pre>\n",
      "<pre>🔴 2014 AD    Vue.js                       programming language</pre>\n",
      "<pre>🔴 2014 AD    Swift                        programming language</pre>\n",
      "<pre>🟡 2014 AD    GTX 980                      technology</pre>\n",
      "<pre>🔴 2016 AD    Angular                      programming language</pre>\n",
      "<pre>🔴 2016 AD    Svelte                       programming language</pre>\n",
      "<pre>🟡 2016 AD    TikTok                       technology</pre>\n",
      "<pre>🟡 2016 AD    GTX 1080                     technology</pre>\n",
      "<pre>🟡 2017 AD    Transformers                 technology</pre>\n",
      "<pre>🟡 2018 AD    RTX 2080                     technology</pre>\n",
      "<pre>🟡 2018 AD    BERT                         technology</pre>\n",
      "<pre>🔴 2019 AD    Zig                          programming language</pre>\n",
      "<pre>🟡 2020 AD    GPT 3                        technology</pre>\n",
      "<pre>🟣 2020 AD    COVID-19                     event</pre>\n",
      "<pre>🟡 2020 AD    RTX 3080                     technology</pre>\n",
      "<pre>🟡 2022 AD    RTX 4080                     technology</pre>\n"
     ]
    }
   ],
   "source": [
    "# Same as above but for GH markdown\n",
    "\n",
    "\n",
    "# colors dict\n",
    "c = {\n",
    "        'birth': '⚪',\n",
    "        'construction': '🟢',\n",
    "        'invention': '🔵',\n",
    "        'event': '🟣',\n",
    "        'technology': '🟡',\n",
    "        'programming language': '🔴',        \n",
    "    }\n",
    "\n",
    "# Sort by year\n",
    "df.sort_values(by=['year'], inplace=True)\n",
    "\n",
    "# Longest event name\n",
    "max_event_name = df['event'].str.len().max()\n",
    "\n",
    "# Loop through the rows\n",
    "for index, row in df.iterrows():\n",
    "    year = row['year']\n",
    "    suffix = \" BC\" if year < 0 else \" AD\"\n",
    "    year = f\"{abs(year):5}{suffix}\"\n",
    "\n",
    "    # select color\n",
    "    color = c[row['type'].strip()]\n",
    "    print(f\"<pre>{color}{year:8}    {row['event']:<{max_event_name}}  {row['type']}</pre>\")\n"
   ]
  }
 ],
 "metadata": {
  "kernelspec": {
   "display_name": "Python 3",
   "language": "python",
   "name": "python3"
  },
  "language_info": {
   "codemirror_mode": {
    "name": "ipython",
    "version": 3
   },
   "file_extension": ".py",
   "mimetype": "text/x-python",
   "name": "python",
   "nbconvert_exporter": "python",
   "pygments_lexer": "ipython3",
   "version": "3.10.6"
  },
  "orig_nbformat": 4
 },
 "nbformat": 4,
 "nbformat_minor": 2
}
